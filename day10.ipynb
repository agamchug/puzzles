{
 "cells": [
  {
   "cell_type": "code",
   "execution_count": 606,
   "metadata": {},
   "outputs": [],
   "source": [
    "with open('input.txt') as f:\n",
    "    data = f.read().splitlines()"
   ]
  },
  {
   "cell_type": "code",
   "execution_count": 607,
   "metadata": {},
   "outputs": [],
   "source": [
    "input = [(x.split(' ')[0], int(x.split(' ')[1])) if len(x.split(' ')) == 2 else (x.split(' ')[0],0) for x in data]"
   ]
  },
  {
   "cell_type": "code",
   "execution_count": 608,
   "metadata": {},
   "outputs": [],
   "source": [
    "cycle = 0\n",
    "value = 1\n",
    "value_20=[]\n",
    "for i in range(len(input)):\n",
    "        if input[i][0] == 'noop':\n",
    "                cycle += 1\n",
    "                if cycle in (range(20,300,40)):\n",
    "                        value_20.append((cycle,value,cycle*value,input[i],i+1))\n",
    "        if input[i][0] == 'addx':\n",
    "                cycle += 1\n",
    "                if cycle in (range(20,300,40)):\n",
    "                        value_20.append((cycle,value,cycle*value,input[i],i+1))\n",
    "                cycle += 1\n",
    "                if cycle in (range(20,300,40)):\n",
    "                        value_20.append((cycle,value,cycle*value,input[i],i+1))\n",
    "        value+=input[i][1]\n",
    "        "
   ]
  },
  {
   "cell_type": "code",
   "execution_count": 609,
   "metadata": {},
   "outputs": [
    {
     "name": "stdout",
     "output_type": "stream",
     "text": [
      "13220\n"
     ]
    }
   ],
   "source": [
    "sum=0\n",
    "for i in value_20:\n",
    "    sum += i[2]\n",
    "print(sum)"
   ]
  },
  {
   "cell_type": "code",
   "execution_count": 610,
   "metadata": {},
   "outputs": [],
   "source": [
    "count_noop = 0\n",
    "count_add= 0\n",
    "for i in input:\n",
    "    if i[0]=='noop':\n",
    "        count_noop +=1\n",
    "    elif i[0]=='addx':\n",
    "        count_add+=1"
   ]
  },
  {
   "cell_type": "code",
   "execution_count": 611,
   "metadata": {},
   "outputs": [
    {
     "data": {
      "text/plain": [
       "(103, 34)"
      ]
     },
     "execution_count": 611,
     "metadata": {},
     "output_type": "execute_result"
    }
   ],
   "source": [
    "count_add,count_noop"
   ]
  },
  {
   "cell_type": "code",
   "execution_count": 612,
   "metadata": {},
   "outputs": [
    {
     "data": {
      "text/plain": [
       "137"
      ]
     },
     "execution_count": 612,
     "metadata": {},
     "output_type": "execute_result"
    }
   ],
   "source": [
    "len(input)"
   ]
  },
  {
   "cell_type": "code",
   "execution_count": 613,
   "metadata": {},
   "outputs": [
    {
     "data": {
      "text/plain": [
       "[(20, 21, 420, ('addx', -17), 13),\n",
       " (60, 16, 960, ('addx', 3), 35),\n",
       " (100, 21, 2100, ('noop', 0), 57),\n",
       " (140, 16, 2240, ('addx', 3), 81),\n",
       " (180, 16, 2880, ('addx', 3), 103),\n",
       " (220, 21, 4620, ('addx', 13), 124)]"
      ]
     },
     "execution_count": 613,
     "metadata": {},
     "output_type": "execute_result"
    }
   ],
   "source": [
    "value_20"
   ]
  },
  {
   "cell_type": "code",
   "execution_count": 412,
   "metadata": {},
   "outputs": [],
   "source": [
    "data = [x.split(\" \") for x in open(\"input.txt\", \"r\").read().splitlines()]\n",
    "\n",
    "signals = [1]\n",
    "\n",
    "for ins in data:\n",
    "    X = signals[-1]\n",
    "    if ins[0] == 'noop':\n",
    "        signals.append(X)\n",
    "    else:\n",
    "        signals.extend([X, X+int(ins[1])])\n",
    "\n"
   ]
  },
  {
   "cell_type": "code",
   "execution_count": 444,
   "metadata": {},
   "outputs": [
    {
     "data": {
      "text/plain": [
       "['###..#..#..##..#..#.#..#.###..####.#..#.',\n",
       " '#..#.#..#.#..#.#.#..#..#.#..#.#....#.#..',\n",
       " '#..#.#..#.#..#.##...####.###..###..##...',\n",
       " '###..#..#.####.#.#..#..#.#..#.#....#.#..',\n",
       " '#.#..#..#.#..#.#.#..#..#.#..#.#....#.#..',\n",
       " '#..#..##..#..#.#..#.#..#.###..####.#..#.']"
      ]
     },
     "execution_count": 444,
     "metadata": {},
     "output_type": "execute_result"
    }
   ],
   "source": [
    "screen = [list(\".\"*40) for i in range(6)]\n",
    "for i, x in enumerate(signals):\n",
    "    row = i // 40\n",
    "    col = i - (row * 40)\n",
    "    \n",
    "    if abs(col - x) <= 1:\n",
    "        screen[row][col] = \"#\"\n",
    "\n",
    "[''.join(row) for row in screen]\n"
   ]
  },
  {
   "cell_type": "code",
   "execution_count": null,
   "metadata": {},
   "outputs": [],
   "source": []
  }
 ],
 "metadata": {
  "kernelspec": {
   "display_name": "Python 3.8.8 ('base')",
   "language": "python",
   "name": "python3"
  },
  "language_info": {
   "codemirror_mode": {
    "name": "ipython",
    "version": 3
   },
   "file_extension": ".py",
   "mimetype": "text/x-python",
   "name": "python",
   "nbconvert_exporter": "python",
   "pygments_lexer": "ipython3",
   "version": "3.8.8"
  },
  "orig_nbformat": 4,
  "vscode": {
   "interpreter": {
    "hash": "40d3a090f54c6569ab1632332b64b2c03c39dcf918b08424e98f38b5ae0af88f"
   }
  }
 },
 "nbformat": 4,
 "nbformat_minor": 2
}
