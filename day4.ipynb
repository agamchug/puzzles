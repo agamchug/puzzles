{
 "cells": [
  {
   "cell_type": "code",
   "execution_count": 11,
   "metadata": {},
   "outputs": [],
   "source": [
    "with open('input4.txt') as f:\n",
    "    data = [x.strip() for x in f.readlines()]"
   ]
  },
  {
   "cell_type": "code",
   "execution_count": 57,
   "metadata": {},
   "outputs": [],
   "source": [
    "count=0\n",
    "for i in data:\n",
    "    if set(range(int(i.split(',')[0].split('-')[0]),int(i.split(',')[0].split('-')[1])+1))\\\n",
    "        .issubset(set(range(int(i.split(',')[1].split('-')[0]),int(i.split(',')[1].split('-')[1])+1))):\n",
    "        count+=1\n",
    "    elif  set(range(int(i.split(',')[1].split('-')[0]),int(i.split(',')[1].split('-')[1])+1))\\\n",
    "        .issubset(set(range(int(i.split(',')[0].split('-')[0]),int(i.split(',')[0].split('-')[1])+1))):\n",
    "        count+=1"
   ]
  },
  {
   "cell_type": "code",
   "execution_count": 58,
   "metadata": {},
   "outputs": [
    {
     "data": {
      "text/plain": [
       "477"
      ]
     },
     "execution_count": 58,
     "metadata": {},
     "output_type": "execute_result"
    }
   ],
   "source": [
    "count"
   ]
  },
  {
   "cell_type": "code",
   "execution_count": 68,
   "metadata": {},
   "outputs": [],
   "source": [
    "count=0\n",
    "for i in data:\n",
    "    if any(item in \\\n",
    "    range(int(i.split(',')[0].split('-')[0]),int(i.split(',')[0].split('-')[1])+1) \\\n",
    "    for item in \\\n",
    "    range(int(i.split(',')[1].split('-')[0]),int(i.split(',')[1].split('-')[1])+1)\n",
    "    ):\n",
    "        count+=1\n"
   ]
  },
  {
   "cell_type": "code",
   "execution_count": 69,
   "metadata": {},
   "outputs": [
    {
     "data": {
      "text/plain": [
       "830"
      ]
     },
     "execution_count": 69,
     "metadata": {},
     "output_type": "execute_result"
    }
   ],
   "source": [
    "count"
   ]
  },
  {
   "cell_type": "code",
   "execution_count": null,
   "metadata": {},
   "outputs": [],
   "source": []
  }
 ],
 "metadata": {
  "kernelspec": {
   "display_name": "Python 3.10.5 ('nlp')",
   "language": "python",
   "name": "python3"
  },
  "language_info": {
   "codemirror_mode": {
    "name": "ipython",
    "version": 3
   },
   "file_extension": ".py",
   "mimetype": "text/x-python",
   "name": "python",
   "nbconvert_exporter": "python",
   "pygments_lexer": "ipython3",
   "version": "3.10.5"
  },
  "orig_nbformat": 4,
  "vscode": {
   "interpreter": {
    "hash": "0847cda728ef3e0f335e7e94b5a043d9a0fda1c620343fc6302f7013063303dc"
   }
  }
 },
 "nbformat": 4,
 "nbformat_minor": 2
}
