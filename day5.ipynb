{
 "cells": [
  {
   "cell_type": "code",
   "execution_count": 403,
   "metadata": {},
   "outputs": [],
   "source": [
    "with open('input5.txt') as f:\n",
    "    #data = [x.strip() for x in f.readlines()]\n",
    "    data=[i for i in f]"
   ]
  },
  {
   "cell_type": "code",
   "execution_count": 404,
   "metadata": {},
   "outputs": [],
   "source": [
    "instructions_raw = [i.strip() for i in data[10:]]"
   ]
  },
  {
   "cell_type": "code",
   "execution_count": 405,
   "metadata": {},
   "outputs": [],
   "source": [
    "setup=[i.replace('\\n','').replace('[',' ').replace(']',' ')[1:-1] for i in data[0:8]]"
   ]
  },
  {
   "cell_type": "code",
   "execution_count": 406,
   "metadata": {},
   "outputs": [],
   "source": [
    "crates={}\n",
    "for i in range(0,33,4):\n",
    "    crates[i]=[]\n",
    "    for j in range(len(setup)):\n",
    "        crates[i].append(setup[j][i])"
   ]
  },
  {
   "cell_type": "code",
   "execution_count": 407,
   "metadata": {},
   "outputs": [],
   "source": [
    "stacked = {}\n",
    "for i in range(0,9):\n",
    "    stacked[i+1]=list(crates.values())[i]\n",
    "    stacked[i+1]=[x for x in stacked[i+1] if x!=' ']\n",
    "    stacked[i+1].reverse()\n",
    "\n",
    "stacked_new=stacked"
   ]
  },
  {
   "cell_type": "code",
   "execution_count": 382,
   "metadata": {},
   "outputs": [],
   "source": [
    "# put in the intructions now\n",
    "instructions=[[int(i.split(' ')[1]), int(i.split(' ')[3]), int(i.split(' ')[5])] for i in instructions_raw]"
   ]
  },
  {
   "cell_type": "code",
   "execution_count": 393,
   "metadata": {},
   "outputs": [
    {
     "name": "stdout",
     "output_type": "stream",
     "text": [
      "['Z', 'S', 'Q', 'V', 'C', 'C', 'J', 'L', 'L']\n"
     ]
    }
   ],
   "source": [
    "for i in instructions:\n",
    "    for j in range(0,i[0]):\n",
    "        stacked[i[2]].extend(stacked[i[1]][-1])\n",
    "        stacked[i[1]].pop(-1)\n",
    "        \n",
    "print([i[-1] for i in stacked.values()])"
   ]
  },
  {
   "cell_type": "code",
   "execution_count": 408,
   "metadata": {},
   "outputs": [],
   "source": [
    "for i in instructions:\n",
    "    stacked_new[i[2]].extend(stacked_new[i[1]][-1*i[0]:])\n",
    "    for j in range(0,i[0]):\n",
    "        stacked_new[i[1]].pop(-1)"
   ]
  },
  {
   "cell_type": "code",
   "execution_count": 409,
   "metadata": {},
   "outputs": [
    {
     "name": "stdout",
     "output_type": "stream",
     "text": [
      "['Q', 'Z', 'F', 'J', 'R', 'W', 'H', 'G', 'S']\n"
     ]
    }
   ],
   "source": [
    "print([i[-1] for i in stacked_new.values()])"
   ]
  },
  {
   "cell_type": "code",
   "execution_count": null,
   "metadata": {},
   "outputs": [],
   "source": []
  }
 ],
 "metadata": {
  "kernelspec": {
   "display_name": "Python 3.10.5 ('nlp')",
   "language": "python",
   "name": "python3"
  },
  "language_info": {
   "codemirror_mode": {
    "name": "ipython",
    "version": 3
   },
   "file_extension": ".py",
   "mimetype": "text/x-python",
   "name": "python",
   "nbconvert_exporter": "python",
   "pygments_lexer": "ipython3",
   "version": "3.10.5"
  },
  "orig_nbformat": 4,
  "vscode": {
   "interpreter": {
    "hash": "0847cda728ef3e0f335e7e94b5a043d9a0fda1c620343fc6302f7013063303dc"
   }
  }
 },
 "nbformat": 4,
 "nbformat_minor": 2
}
