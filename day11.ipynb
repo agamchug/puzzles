{
 "cells": [
  {
   "cell_type": "code",
   "execution_count": 485,
   "metadata": {},
   "outputs": [],
   "source": [
    "input = [x for x in open(\"input11.txt\").read().splitlines()]\n"
   ]
  },
  {
   "cell_type": "code",
   "execution_count": 486,
   "metadata": {},
   "outputs": [],
   "source": [
    "inst={}\n",
    "i=0\n",
    "while i<51:\n",
    "    inst[int(input[i].replace(':','').split()[-1])] = {'start':[int(j.replace(',','')) for j in input[i+1].split()[2:]],\n",
    "                   'operation': input[i+2].split()[-2:],\n",
    "                   'test':int(input[i+3].split()[-1]),\n",
    "                   'T_monkey':int(input[i+4].split()[-1]),\n",
    "                   'F_monkey':int(input[i+5].split()[-1]),\n",
    "                   'next_start':[]\n",
    "                   }\n",
    "    i+=7\n"
   ]
  },
  {
   "cell_type": "code",
   "execution_count": 488,
   "metadata": {},
   "outputs": [
    {
     "ename": "KeyboardInterrupt",
     "evalue": "",
     "output_type": "error",
     "traceback": [
      "\u001b[0;31m---------------------------------------------------------------------------\u001b[0m",
      "\u001b[0;31mKeyboardInterrupt\u001b[0m                         Traceback (most recent call last)",
      "\u001b[1;32m/Users/agamchug/Desktop/Advent Codes/day11.ipynb Cell 3\u001b[0m in \u001b[0;36m<cell line: 5>\u001b[0;34m()\u001b[0m\n\u001b[1;32m     <a href='vscode-notebook-cell:/Users/agamchug/Desktop/Advent%20Codes/day11.ipynb#ch0000008?line=9'>10</a>\u001b[0m \u001b[39mif\u001b[39;00m inst[monkey][\u001b[39m'\u001b[39m\u001b[39moperation\u001b[39m\u001b[39m'\u001b[39m][\u001b[39m1\u001b[39m] \u001b[39m==\u001b[39m \u001b[39m'\u001b[39m\u001b[39mold\u001b[39m\u001b[39m'\u001b[39m:\n\u001b[1;32m     <a href='vscode-notebook-cell:/Users/agamchug/Desktop/Advent%20Codes/day11.ipynb#ch0000008?line=10'>11</a>\u001b[0m     \u001b[39mif\u001b[39;00m inst[monkey][\u001b[39m'\u001b[39m\u001b[39moperation\u001b[39m\u001b[39m'\u001b[39m][\u001b[39m0\u001b[39m] \u001b[39m==\u001b[39m \u001b[39m'\u001b[39m\u001b[39m*\u001b[39m\u001b[39m'\u001b[39m:\n\u001b[0;32m---> <a href='vscode-notebook-cell:/Users/agamchug/Desktop/Advent%20Codes/day11.ipynb#ch0000008?line=11'>12</a>\u001b[0m         worry\u001b[39m*\u001b[39m\u001b[39m=\u001b[39mworry\n\u001b[1;32m     <a href='vscode-notebook-cell:/Users/agamchug/Desktop/Advent%20Codes/day11.ipynb#ch0000008?line=12'>13</a>\u001b[0m     \u001b[39melif\u001b[39;00m inst[monkey][\u001b[39m'\u001b[39m\u001b[39moperation\u001b[39m\u001b[39m'\u001b[39m][\u001b[39m0\u001b[39m] \u001b[39m==\u001b[39m \u001b[39m'\u001b[39m\u001b[39m+\u001b[39m\u001b[39m'\u001b[39m:\n\u001b[1;32m     <a href='vscode-notebook-cell:/Users/agamchug/Desktop/Advent%20Codes/day11.ipynb#ch0000008?line=13'>14</a>\u001b[0m         worry\u001b[39m+\u001b[39m\u001b[39m=\u001b[39mworry\n",
      "\u001b[0;31mKeyboardInterrupt\u001b[0m: "
     ]
    }
   ],
   "source": [
    "plays = {}\n",
    "for i in range(len(inst)):\n",
    "    plays[i] = []\n",
    "\n",
    "for round in range(10000):\n",
    "    for monkey in inst:\n",
    "        for worry in inst[monkey]['start']:\n",
    "            worry0=worry\n",
    "            plays[monkey].append((round,worry))\n",
    "            if inst[monkey]['operation'][1] == 'old':\n",
    "                if inst[monkey]['operation'][0] == '*':\n",
    "                    worry*=worry\n",
    "                elif inst[monkey]['operation'][0] == '+':\n",
    "                    worry+=worry\n",
    "            else:\n",
    "                if inst[monkey]['operation'][0] == '*':\n",
    "                    worry = worry*int(inst[monkey]['operation'][1])\n",
    "                elif inst[monkey]['operation'][0] == '+':\n",
    "                    worry += int(inst[monkey]['operation'][1])\n",
    "            # divide worry by 3 and round down\n",
    "            #worry = worry//3\n",
    "            if worry % inst[monkey]['test']==0:\n",
    "                if monkey < inst[monkey]['T_monkey']:\n",
    "                    inst[inst[monkey]['T_monkey']]['start'].append(worry)\n",
    "                elif monkey>inst[monkey]['T_monkey']:\n",
    "                    #inst[inst[monkey]['T_monkey']]['start'] = []\n",
    "                    inst[inst[monkey]['T_monkey']]['next_start'].append(worry)# send for next round\n",
    "            else:\n",
    "                if monkey < inst[monkey]['F_monkey']:\n",
    "                    inst[inst[monkey]['F_monkey']]['start'].append(worry)\n",
    "                elif monkey > inst[monkey]['F_monkey']:\n",
    "                    #inst[inst[monkey]['F_monkey']]['start'] = []\n",
    "                    inst[inst[monkey]['F_monkey']]['next_start'].append(worry)\n",
    "\n",
    "    for monkey in inst:              \n",
    "        inst[monkey]['start']=inst[monkey]['next_start']\n",
    "        inst[monkey]['next_start']=[]\n",
    "        \n",
    "            #inst[monkey]['start'].remove(worry0)\n",
    "\n",
    "                    # inst['F_monkey']['start'].append(worry)\n",
    "            #     else:\n",
    "            #         inst['F_monkey']['start'] = []\n",
    "            #         inst['F_monkey']['start'].append(worry)\n",
    "            #         # send for next round\n",
    "            \n",
    "       # plays[monkey].extend(inst[monkey]['start'])\n",
    "    \n",
    "            "
   ]
  },
  {
   "cell_type": "code",
   "execution_count": 484,
   "metadata": {},
   "outputs": [
    {
     "name": "stdout",
     "output_type": "stream",
     "text": [
      "0 837\n",
      "1 381\n",
      "2 525\n",
      "3 1378\n",
      "4 912\n",
      "5 1429\n",
      "6 1135\n",
      "7 1209\n"
     ]
    }
   ],
   "source": [
    "for i in plays:\n",
    "    print(i, len(plays[i]))"
   ]
  },
  {
   "cell_type": "code",
   "execution_count": null,
   "metadata": {},
   "outputs": [],
   "source": []
  }
 ],
 "metadata": {
  "kernelspec": {
   "display_name": "Python 3.10.5 ('nlp')",
   "language": "python",
   "name": "python3"
  },
  "language_info": {
   "codemirror_mode": {
    "name": "ipython",
    "version": 3
   },
   "file_extension": ".py",
   "mimetype": "text/x-python",
   "name": "python",
   "nbconvert_exporter": "python",
   "pygments_lexer": "ipython3",
   "version": "3.10.5"
  },
  "orig_nbformat": 4,
  "vscode": {
   "interpreter": {
    "hash": "0847cda728ef3e0f335e7e94b5a043d9a0fda1c620343fc6302f7013063303dc"
   }
  }
 },
 "nbformat": 4,
 "nbformat_minor": 2
}
